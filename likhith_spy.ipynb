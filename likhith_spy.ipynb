{
 "cells": [
  {
   "cell_type": "code",
   "execution_count": 4,
   "id": "e1d100d2",
   "metadata": {},
   "outputs": [
    {
     "name": "stdout",
     "output_type": "stream",
     "text": [
      "code\n"
     ]
    }
   ],
   "source": [
    "space_seperated_nums = input()\n",
    "\n",
    "nums_list = space_seperated_nums.split(' ')\n",
    "\n",
    "original_nums_list = nums_list[1::3]\n",
    "\n",
    "original_nums_list.reverse()\n",
    "\n",
    "required_string = \"\"\n",
    "\n",
    "for val in original_nums_list:\n",
    "    required_string+=chr(int(val))\n",
    "\n",
    "print(required_string)\n"
   ]
  },
  {
   "cell_type": "code",
   "execution_count": null,
   "id": "12c8e13c",
   "metadata": {},
   "outputs": [],
   "source": []
  }
 ],
 "metadata": {
  "kernelspec": {
   "display_name": "demo",
   "language": "python",
   "name": "python3"
  },
  "language_info": {
   "codemirror_mode": {
    "name": "ipython",
    "version": 3
   },
   "file_extension": ".py",
   "mimetype": "text/x-python",
   "name": "python",
   "nbconvert_exporter": "python",
   "pygments_lexer": "ipython3",
   "version": "3.13.5"
  }
 },
 "nbformat": 4,
 "nbformat_minor": 5
}
